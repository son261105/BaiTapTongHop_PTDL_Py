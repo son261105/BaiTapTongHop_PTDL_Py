{
 "cells": [
  {
   "cell_type": "markdown",
   "metadata": {
    "pycharm": {
     "name": "#%% md\n"
    }
   },
   "source": [
    "# Wine"
   ]
  },
  {
   "cell_type": "markdown",
   "metadata": {
    "pycharm": {
     "name": "#%% md\n"
    }
   },
   "source": [
    "### Introduction:\n",
    "\n",
    "This exercise is a adaptation from the UCI Wine dataset.\n",
    "The only pupose is to practice deleting data with pandas.\n",
    "\n",
    "### Step 1. Import the necessary libraries"
   ]
  },
  {
   "cell_type": "code",
   "execution_count": 1,
   "metadata": {
    "collapsed": false,
    "pycharm": {
     "name": "#%%\n"
    }
   },
   "outputs": [],
   "source": [
    "import pandas as pd\n",
    "import numpy as np\n",
    "import random"
   ]
  },
  {
   "cell_type": "markdown",
   "metadata": {
    "pycharm": {
     "name": "#%% md\n"
    }
   },
   "source": [
    "### Step 2. Import the dataset from this [address](https://archive.ics.uci.edu/ml/machine-learning-databases/wine/wine.data). "
   ]
  },
  {
   "cell_type": "code",
   "execution_count": 2,
   "metadata": {},
   "outputs": [],
   "source": [
    "url = \"https://archive.ics.uci.edu/ml/machine-learning-databases/wine/wine.data\""
   ]
  },
  {
   "cell_type": "markdown",
   "metadata": {
    "pycharm": {
     "name": "#%% md\n"
    }
   },
   "source": [
    "### Step 3. Assign it to a variable called wine"
   ]
  },
  {
   "cell_type": "code",
   "execution_count": 3,
   "metadata": {
    "collapsed": false,
    "pycharm": {
     "name": "#%%\n"
    }
   },
   "outputs": [],
   "source": [
    "wine = pd.read_csv(url, header=None)"
   ]
  },
  {
   "cell_type": "markdown",
   "metadata": {
    "pycharm": {
     "name": "#%% md\n"
    }
   },
   "source": [
    "### Step 4. Delete the first, fourth, seventh, nineth, eleventh, thirteenth and fourteenth columns"
   ]
  },
  {
   "cell_type": "code",
   "execution_count": 4,
   "metadata": {
    "collapsed": false,
    "pycharm": {
     "name": "#%%\n"
    }
   },
   "outputs": [
    {
     "name": "stdout",
     "output_type": "stream",
     "text": [
      "      1     2     4    5     7     9     11\n",
      "0  14.23  1.71  15.6  127  3.06  2.29  1.04\n",
      "1  13.20  1.78  11.2  100  2.76  1.28  1.05\n",
      "2  13.16  2.36  18.6  101  3.24  2.81  1.03\n",
      "3  14.37  1.95  16.8  113  3.49  2.18  0.86\n",
      "4  13.24  2.59  21.0  118  2.69  1.82  1.04\n"
     ]
    }
   ],
   "source": [
    "\n",
    "columns_to_drop = [0, 3, 6, 8, 10, 12, 13]\n",
    "wine = wine.drop(columns=columns_to_drop, axis=1)\n",
    "\n",
    "print(wine.head())"
   ]
  },
  {
   "cell_type": "markdown",
   "metadata": {
    "pycharm": {
     "name": "#%% md\n"
    }
   },
   "source": [
    "### Step 5. Assign the columns as below:\n",
    "\n",
    "The attributes are (donated by Riccardo Leardi, riclea '@' anchem.unige.it):  \n",
    "1) alcohol  \n",
    "2) malic_acid  \n",
    "3) alcalinity_of_ash  \n",
    "4) magnesium  \n",
    "5) flavanoids  \n",
    "6) proanthocyanins  \n",
    "7) hue "
   ]
  },
  {
   "cell_type": "code",
   "execution_count": 5,
   "metadata": {
    "collapsed": false,
    "pycharm": {
     "name": "#%%\n"
    }
   },
   "outputs": [
    {
     "name": "stdout",
     "output_type": "stream",
     "text": [
      "   alcohol  malic_acid  alcalinity_of_ash  magnesium  flavanoids  \\\n",
      "0    14.23        1.71               15.6        127        3.06   \n",
      "1    13.20        1.78               11.2        100        2.76   \n",
      "2    13.16        2.36               18.6        101        3.24   \n",
      "3    14.37        1.95               16.8        113        3.49   \n",
      "4    13.24        2.59               21.0        118        2.69   \n",
      "\n",
      "   proanthocyanins   hue  \n",
      "0             2.29  1.04  \n",
      "1             1.28  1.05  \n",
      "2             2.81  1.03  \n",
      "3             2.18  0.86  \n",
      "4             1.82  1.04  \n"
     ]
    }
   ],
   "source": [
    "wine.columns = ['alcohol', 'malic_acid', 'alcalinity_of_ash', 'magnesium', 'flavanoids', 'proanthocyanins', 'hue']\n",
    "\n",
    "print(wine.head())"
   ]
  },
  {
   "cell_type": "markdown",
   "metadata": {
    "pycharm": {
     "name": "#%% md\n"
    }
   },
   "source": [
    "### Step 6. Set the values of the first 3 rows from alcohol as NaN"
   ]
  },
  {
   "cell_type": "code",
   "execution_count": 6,
   "metadata": {
    "collapsed": false,
    "pycharm": {
     "name": "#%%\n"
    }
   },
   "outputs": [
    {
     "name": "stdout",
     "output_type": "stream",
     "text": [
      "   alcohol  malic_acid  alcalinity_of_ash  magnesium  flavanoids  \\\n",
      "0      NaN        1.71               15.6        127        3.06   \n",
      "1      NaN        1.78               11.2        100        2.76   \n",
      "2      NaN        2.36               18.6        101        3.24   \n",
      "3    14.37        1.95               16.8        113        3.49   \n",
      "4    13.24        2.59               21.0        118        2.69   \n",
      "\n",
      "   proanthocyanins   hue  \n",
      "0             2.29  1.04  \n",
      "1             1.28  1.05  \n",
      "2             2.81  1.03  \n",
      "3             2.18  0.86  \n",
      "4             1.82  1.04  \n"
     ]
    }
   ],
   "source": [
    "wine.loc[0:2, 'alcohol'] = np.nan\n",
    "\n",
    "print(wine.head())"
   ]
  },
  {
   "cell_type": "markdown",
   "metadata": {
    "pycharm": {
     "name": "#%% md\n"
    }
   },
   "source": [
    "### Step 7. Now set the value of the rows 3 and 4 of magnesium as NaN"
   ]
  },
  {
   "cell_type": "code",
   "execution_count": 7,
   "metadata": {
    "collapsed": false,
    "pycharm": {
     "name": "#%%\n"
    }
   },
   "outputs": [
    {
     "name": "stdout",
     "output_type": "stream",
     "text": [
      "   alcohol  malic_acid  alcalinity_of_ash  magnesium  flavanoids  \\\n",
      "0      NaN        1.71               15.6      127.0        3.06   \n",
      "1      NaN        1.78               11.2      100.0        2.76   \n",
      "2      NaN        2.36               18.6      101.0        3.24   \n",
      "3    14.37        1.95               16.8        NaN        3.49   \n",
      "4    13.24        2.59               21.0        NaN        2.69   \n",
      "\n",
      "   proanthocyanins   hue  \n",
      "0             2.29  1.04  \n",
      "1             1.28  1.05  \n",
      "2             2.81  1.03  \n",
      "3             2.18  0.86  \n",
      "4             1.82  1.04  \n"
     ]
    }
   ],
   "source": [
    "wine.loc[3:4, 'magnesium'] = np.nan\n",
    "\n",
    "print(wine.head())"
   ]
  },
  {
   "cell_type": "markdown",
   "metadata": {
    "pycharm": {
     "name": "#%% md\n"
    }
   },
   "source": [
    "### Step 8. Fill the value of NaN with the number 10 in alcohol and 100 in magnesium"
   ]
  },
  {
   "cell_type": "code",
   "execution_count": 8,
   "metadata": {
    "collapsed": false,
    "pycharm": {
     "name": "#%%\n"
    }
   },
   "outputs": [
    {
     "name": "stdout",
     "output_type": "stream",
     "text": [
      "   alcohol  malic_acid  alcalinity_of_ash  magnesium  flavanoids  \\\n",
      "0    10.00        1.71               15.6      127.0        3.06   \n",
      "1    10.00        1.78               11.2      100.0        2.76   \n",
      "2    10.00        2.36               18.6      101.0        3.24   \n",
      "3    14.37        1.95               16.8      100.0        3.49   \n",
      "4    13.24        2.59               21.0      100.0        2.69   \n",
      "\n",
      "   proanthocyanins   hue  \n",
      "0             2.29  1.04  \n",
      "1             1.28  1.05  \n",
      "2             2.81  1.03  \n",
      "3             2.18  0.86  \n",
      "4             1.82  1.04  \n"
     ]
    }
   ],
   "source": [
    "wine['alcohol'] = wine['alcohol'].fillna(10)\n",
    "wine['magnesium'] = wine['magnesium'].fillna(100)\n",
    "\n",
    "print(wine.head())"
   ]
  },
  {
   "cell_type": "markdown",
   "metadata": {
    "pycharm": {
     "name": "#%% md\n"
    }
   },
   "source": [
    "### Step 9. Count the number of missing values"
   ]
  },
  {
   "cell_type": "code",
   "execution_count": 9,
   "metadata": {
    "collapsed": false,
    "pycharm": {
     "name": "#%%\n"
    }
   },
   "outputs": [
    {
     "name": "stdout",
     "output_type": "stream",
     "text": [
      "Số lượng giá trị thiếu trong mỗi cột:\n",
      " alcohol              0\n",
      "malic_acid           0\n",
      "alcalinity_of_ash    0\n",
      "magnesium            0\n",
      "flavanoids           0\n",
      "proanthocyanins      0\n",
      "hue                  0\n",
      "dtype: int64\n"
     ]
    }
   ],
   "source": [
    "missing_values_count = wine.isnull().sum()\n",
    "print(\"Số lượng giá trị thiếu trong mỗi cột:\\n\", missing_values_count)"
   ]
  },
  {
   "cell_type": "markdown",
   "metadata": {
    "pycharm": {
     "name": "#%% md\n"
    }
   },
   "source": [
    "### Step 10.  Create an array of 10 random numbers up until 10"
   ]
  },
  {
   "cell_type": "code",
   "execution_count": 10,
   "metadata": {
    "collapsed": false,
    "pycharm": {
     "name": "#%%\n"
    }
   },
   "outputs": [
    {
     "name": "stdout",
     "output_type": "stream",
     "text": [
      "10 chỉ mục ngẫu nhiên: [125 100  69 111  28 142 175  98   0 167]\n"
     ]
    }
   ],
   "source": [
    "\n",
    "random_indices = np.random.randint(0, len(wine), size=10)\n",
    "\n",
    "print(\"10 chỉ mục ngẫu nhiên:\", random_indices)"
   ]
  },
  {
   "cell_type": "markdown",
   "metadata": {
    "pycharm": {
     "name": "#%% md\n"
    }
   },
   "source": [
    "### Step 11.  Use random numbers you generated as an index and assign NaN value to each of cell."
   ]
  },
  {
   "cell_type": "code",
   "execution_count": 11,
   "metadata": {
    "collapsed": false,
    "pycharm": {
     "name": "#%%\n"
    }
   },
   "outputs": [
    {
     "name": "stdout",
     "output_type": "stream",
     "text": [
      "    alcohol  malic_acid  alcalinity_of_ash  magnesium  flavanoids  \\\n",
      "0       NaN        1.71               15.6      127.0        3.06   \n",
      "1     10.00        1.78               11.2      100.0        2.76   \n",
      "2     10.00        2.36               18.6      101.0        3.24   \n",
      "3     14.37        1.95               16.8      100.0        3.49   \n",
      "4     13.24        2.59               21.0      100.0        2.69   \n",
      "5     14.20        1.76               15.2      112.0        3.39   \n",
      "6     14.39        1.87               14.6       96.0        2.52   \n",
      "7     14.06        2.15               17.6      121.0        2.51   \n",
      "8     14.83        1.64               14.0       97.0        2.98   \n",
      "9     13.86        1.35               16.0       98.0        3.15   \n",
      "10    14.10        2.16               18.0      105.0        3.32   \n",
      "11    14.12        1.48               16.8       95.0        2.43   \n",
      "12    13.75        1.73               16.0       89.0        2.76   \n",
      "13    14.75        1.73               11.4       91.0        3.69   \n",
      "14    14.38        1.87               12.0      102.0        3.64   \n",
      "\n",
      "    proanthocyanins   hue  \n",
      "0              2.29  1.04  \n",
      "1              1.28  1.05  \n",
      "2              2.81  1.03  \n",
      "3              2.18  0.86  \n",
      "4              1.82  1.04  \n",
      "5              1.97  1.05  \n",
      "6              1.98  1.02  \n",
      "7              1.25  1.06  \n",
      "8              1.98  1.08  \n",
      "9              1.85  1.01  \n",
      "10             2.38  1.25  \n",
      "11             1.57  1.17  \n",
      "12             1.81  1.15  \n",
      "13             2.81  1.25  \n",
      "14             2.96  1.20  \n"
     ]
    }
   ],
   "source": [
    "wine.loc[random_indices, 'alcohol'] = np.nan\n",
    "\n",
    "print(wine.head(15))"
   ]
  },
  {
   "cell_type": "markdown",
   "metadata": {
    "pycharm": {
     "name": "#%% md\n"
    }
   },
   "source": [
    "### Step 12.  How many missing values do we have?"
   ]
  },
  {
   "cell_type": "code",
   "execution_count": 12,
   "metadata": {
    "collapsed": false,
    "pycharm": {
     "name": "#%%\n"
    }
   },
   "outputs": [
    {
     "name": "stdout",
     "output_type": "stream",
     "text": [
      "Tổng số giá trị thiếu hiện có: 10\n"
     ]
    }
   ],
   "source": [
    "total_missing_values = wine.isnull().sum().sum()\n",
    "print(\"Tổng số giá trị thiếu hiện có:\", total_missing_values)"
   ]
  },
  {
   "cell_type": "markdown",
   "metadata": {
    "pycharm": {
     "name": "#%% md\n"
    }
   },
   "source": [
    "### Step 13. Delete the rows that contain missing values"
   ]
  },
  {
   "cell_type": "code",
   "execution_count": 15,
   "metadata": {
    "collapsed": false,
    "pycharm": {
     "name": "#%%\n"
    }
   },
   "outputs": [
    {
     "name": "stdout",
     "output_type": "stream",
     "text": [
      "Kích thước DataFrame sau khi xóa hàng có NaN: (168, 7)\n"
     ]
    }
   ],
   "source": [
    "wine_cleaned = wine.dropna()\n",
    "\n",
    "print(\"Kích thước DataFrame sau khi xóa hàng có NaN:\", wine_cleaned.shape)"
   ]
  },
  {
   "cell_type": "markdown",
   "metadata": {
    "pycharm": {
     "name": "#%% md\n"
    }
   },
   "source": [
    "### Step 14. Print only the non-null values in alcohol"
   ]
  },
  {
   "cell_type": "code",
   "execution_count": 14,
   "metadata": {
    "collapsed": false,
    "pycharm": {
     "name": "#%%\n"
    }
   },
   "outputs": [
    {
     "name": "stdout",
     "output_type": "stream",
     "text": [
      "Các giá trị không rỗng trong cột 'alcohol':\n",
      " 1      10.00\n",
      "2      10.00\n",
      "3      14.37\n",
      "4      13.24\n",
      "5      14.20\n",
      "       ...  \n",
      "172    14.16\n",
      "173    13.71\n",
      "174    13.40\n",
      "176    13.17\n",
      "177    14.13\n",
      "Name: alcohol, Length: 168, dtype: float64\n"
     ]
    }
   ],
   "source": [
    "non_null_alcohol = wine[wine['alcohol'].notna()]['alcohol']\n",
    "print(\"Các giá trị không rỗng trong cột 'alcohol':\\n\", non_null_alcohol)"
   ]
  },
  {
   "cell_type": "markdown",
   "metadata": {
    "pycharm": {
     "name": "#%% md\n"
    }
   },
   "source": [
    "### Step 15.  Reset the index, so it starts with 0 again"
   ]
  },
  {
   "cell_type": "code",
   "execution_count": 16,
   "metadata": {
    "collapsed": false,
    "pycharm": {
     "name": "#%%\n"
    }
   },
   "outputs": [
    {
     "name": "stdout",
     "output_type": "stream",
     "text": [
      "DataFrame sau khi reset index:\n",
      "    alcohol  malic_acid  alcalinity_of_ash  magnesium  flavanoids  \\\n",
      "0    10.00        1.78               11.2      100.0        2.76   \n",
      "1    10.00        2.36               18.6      101.0        3.24   \n",
      "2    14.37        1.95               16.8      100.0        3.49   \n",
      "3    13.24        2.59               21.0      100.0        2.69   \n",
      "4    14.20        1.76               15.2      112.0        3.39   \n",
      "\n",
      "   proanthocyanins   hue  \n",
      "0             1.28  1.05  \n",
      "1             2.81  1.03  \n",
      "2             2.18  0.86  \n",
      "3             1.82  1.04  \n",
      "4             1.97  1.05  \n"
     ]
    }
   ],
   "source": [
    "wine_cleaned = wine_cleaned.reset_index(drop=True)\n",
    "\n",
    "print(\"DataFrame sau khi reset index:\\n\", wine_cleaned.head())"
   ]
  },
  {
   "cell_type": "markdown",
   "metadata": {
    "pycharm": {
     "name": "#%% md\n"
    }
   },
   "source": [
    "### BONUS: Create your own question and answer it."
   ]
  },
  {
   "cell_type": "code",
   "execution_count": null,
   "metadata": {
    "collapsed": true,
    "pycharm": {
     "name": "#%%\n"
    }
   },
   "outputs": [],
   "source": []
  }
 ],
 "metadata": {
  "kernelspec": {
   "display_name": "Python 3",
   "language": "python",
   "name": "python3"
  },
  "language_info": {
   "codemirror_mode": {
    "name": "ipython",
    "version": 3
   },
   "file_extension": ".py",
   "mimetype": "text/x-python",
   "name": "python",
   "nbconvert_exporter": "python",
   "pygments_lexer": "ipython3",
   "version": "3.13.9"
  }
 },
 "nbformat": 4,
 "nbformat_minor": 0
}
